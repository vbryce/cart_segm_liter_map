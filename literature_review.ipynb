{
 "cells": [
  {
   "cell_type": "markdown",
   "metadata": {},
   "source": [
    "# Mini Workshop - Programming a Literature Review"
   ]
  },
  {
   "cell_type": "markdown",
   "metadata": {},
   "source": [
    "Modified from Serena Bonaretti's repository https://github.com/sbonaretti/cart_segm_liter_map and related Youtube videos https://www.youtube.com/channel/UCk1sLroo_tgJqcn-0EVh6zQ/featured. Repurposed for a mini-workshop demonstration on programming tools for open science, and how they can be useful for all disciplines. Presented to Horizon CDT (https://cdt.horizon.ac.uk/) students. Please note that for the exercise, some steps such as uploading data to a repository that provides a DOI have been skipped, but that these are important for creating true reproducible environments. "
   ]
  },
  {
   "cell_type": "markdown",
   "metadata": {},
   "source": [
    "---"
   ]
  },
  {
   "cell_type": "code",
   "execution_count": null,
   "metadata": {},
   "outputs": [],
   "source": [
    "import pandas as pd  \n",
    "import numpy  as np\n",
    "import altair as alt\n",
    "import vega \n",
    "from   vega_datasets import data # for state contours "
   ]
  },
  {
   "cell_type": "code",
   "execution_count": null,
   "metadata": {},
   "outputs": [],
   "source": [
    "alt.renderers.enable('notebook'); # for rendering in jupyter notebook"
   ]
  },
  {
   "cell_type": "markdown",
   "metadata": {},
   "source": [
    "---\n",
    "<a name = \"download\"></a>\n",
    "## Download data in the repository\n",
    "\n",
    "Ideally, input data should be in a repository that provides a **persistent digital object identifier (DOI)** so that data will be available in the future. It is *discouraged* to share data from **personal repositories** because links tend to get deleted, thus compromising the reproducibility of the workflow."
   ]
  },
  {
   "cell_type": "markdown",
   "metadata": {},
   "source": [
    "- Load the file `literature_review.csv` \n",
    "- Show data in file"
   ]
  },
  {
   "cell_type": "code",
   "execution_count": 3,
   "metadata": {},
   "outputs": [],
   "source": [
    "# load literature table\n",
    "literature = pd.read_csv(\"literature_review.csv\")"
   ]
  },
  {
   "cell_type": "code",
   "execution_count": null,
   "metadata": {
    "scrolled": true
   },
   "outputs": [],
   "source": [
    "# display all rows and columns\n",
    "dataDimension = literature.shape # get number of rows\n",
    "pd.set_option(\"display.max_rows\",5)\n",
    "pd.set_option(\"display.max_columns\",dataDimension[1])\n",
    "\n",
    "# show\n",
    "literature"
   ]
  },
  {
   "cell_type": "markdown",
   "metadata": {},
   "source": [
    "---\n",
    "<a name = \"manipulation\"></a>\n",
    "## Automate data manipulation\n",
    "\n",
    "**Automatic** data manipulation does not compromise original data and keeps track of manipulations, making analyses reproducible. It is *discouraged* to do **manual** manipulation, as it compromizes original data, is prone to errors, and does not keep track of changes, making analyses hardly reproducible.\n",
    "\n",
    "- Change `bibtext_id` format from `author_year` to `author (year)` for better readability when hovering (e.g. from `Solloway_1997` to `Solloway (1997)`)"
   ]
  },
  {
   "cell_type": "code",
   "execution_count": null,
   "metadata": {},
   "outputs": [],
   "source": [
    "# replace underscore with space and opening bracket\n",
    "literature[\"bibtex_id\"] = literature[\"bibtex_id\"].str.replace('_',' (')\n",
    "# adding closing bracket\n",
    "literature[\"bibtex_id\"] = literature[\"bibtex_id\"].astype(str) + \")\"  \n",
    "\n",
    "# show table\n",
    "literature"
   ]
  },
  {
   "cell_type": "markdown",
   "metadata": {},
   "source": [
    "## Visualize map\n",
    "Show the interactive map."
   ]
  },
  {
   "cell_type": "code",
   "execution_count": null,
   "metadata": {},
   "outputs": [],
   "source": [
    "# import coordinates of countries to create the background map\n",
    "countries = alt.topo_feature(data.world_110m.url, 'countries')\n",
    "\n",
    "# create map\n",
    "background = alt.Chart(countries).mark_geoshape(\n",
    "    fill        = 'white',\n",
    "    stroke      = 'lightgray',\n",
    "    strokeWidth = 1.5\n",
    ").project(\n",
    "    \"equirectangular\"\n",
    ").properties(\n",
    "    width  = 1250,\n",
    "    height = 750\n",
    ")\n",
    "\n",
    "# create points\n",
    "points = alt.Chart(literature).mark_circle().encode(\n",
    "    longitude = 'longitude',\n",
    "    latitude  = 'latitude',\n",
    "    size      = alt.value(100),\n",
    "    color     = 'algorithm_type',\n",
    "    tooltip   = 'bibtex_id' # name of each point when hovering\n",
    "    \n",
    ")\n",
    "\n",
    "# show\n",
    "background + points "
   ]
  }
 ],
 "metadata": {
  "kernelspec": {
   "display_name": "Python 3",
   "language": "python",
   "name": "python3"
  },
  "language_info": {
   "codemirror_mode": {
    "name": "ipython",
    "version": 3
   },
   "file_extension": ".py",
   "mimetype": "text/x-python",
   "name": "python",
   "nbconvert_exporter": "python",
   "pygments_lexer": "ipython3",
   "version": "3.7.3"
  }
 },
 "nbformat": 4,
 "nbformat_minor": 4
}
